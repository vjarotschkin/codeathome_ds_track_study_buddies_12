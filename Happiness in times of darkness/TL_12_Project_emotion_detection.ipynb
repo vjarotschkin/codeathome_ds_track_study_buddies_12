{
 "cells": [
  {
   "cell_type": "markdown",
   "metadata": {
    "id": "ogzOQCBmIqyH"
   },
   "source": [
    "# **CODE**"
   ]
  },
  {
   "cell_type": "markdown",
   "metadata": {
    "id": "0hbrd698IzBm"
   },
   "source": [
    "## Import and Functions"
   ]
  },
  {
   "cell_type": "code",
   "execution_count": 6,
   "metadata": {
    "id": "cNv11YspI3O4"
   },
   "outputs": [],
   "source": [
    "# import\n",
    "import sys\n",
    "import string\n",
    "import pandas as pd\n",
    "import numpy as np\n",
    "import matplotlib.pyplot as plt\n",
    "import tkinter\n",
    "from tkinter import messagebox\n",
    "from tkinter import *\n",
    "from functools import partial\n",
    "from textblob import TextBlob\n",
    "\n",
    "# import and clear the training data\n",
    "train = dict()\n",
    "train_raw = pd.read_excel(\"DATA_TL_12.xlsx\", sheet_name=\"Train1\", header=None)\n",
    "for i in range(0,len(train_raw.values)):\n",
    "    train_clear = str(train_raw.iloc[i][0]).replace(\"'\",\"\").replace(\",\",\"\").replace(\"\\n\",\"\")\n",
    "    train[train_clear[1:train_clear.find(\":\")]] = train_clear[(train_clear.find(\":\") + 2):]\n",
    "train2 = pd.DataFrame(pd.read_excel(\"DATA_TL_12.xlsx\", sheet_name=\"Train2\", index_col=0))\n",
    "\n",
    "# import the stop words\n",
    "stopwords = pd.read_excel(\"DATA_TL_12.xlsx\", sheet_name=\"Stopwords\", header=None)\n",
    "list_stopwords = []\n",
    "for i in range(0,len(stopwords.values)):\n",
    "    list_stopwords.append(stopwords.iloc[i][0])\n",
    "stopwords = list_stopwords\n",
    "\n",
    "# clustered emotions\n",
    "dictemo = pd.read_excel(\"DATA_TL_12.xlsx\", sheet_name=\"Clustering\", index_col=0)\n",
    "\n",
    "# additional functions\n",
    "def overallemotion_func():\n",
    "    global overallemo_dict\n",
    "    global emotion_dict\n",
    "    global dictemo\n",
    "    \n",
    "    overallemo_dict = {\"happiness\": 0, \n",
    "                       \"sadness\": 0, \n",
    "                       \"anger\": 0, \n",
    "                       \"disgust\": 0,\n",
    "                       \"surprise\": 0, \n",
    "                       \"fear\": 0}\n",
    "\n",
    "    for emo in list(emotion_dict.keys()):\n",
    "        quan = emotion_dict[emo]\n",
    "        for oemo in list(overallemo_dict.keys()):\n",
    "            mult = dictemo.loc[emo][oemo]\n",
    "            overallemo_dict[oemo] = overallemo_dict[oemo] + (quan*mult)\n",
    "    sum_overallemo_dict = sum(list(overallemo_dict.values()))\n",
    "    for i in list(overallemo_dict.keys()):\n",
    "        overallemo_dict[i] = round((overallemo_dict[i]/sum_overallemo_dict),4)\n",
    "\n",
    "def emotion_func(text_words):\n",
    "    global emotion_dict\n",
    "    global npemotion_dict    \n",
    "    global negation_marker\n",
    "    \n",
    "    #text_words = text.split()\n",
    "    if \"not\" in text_words:\n",
    "        negation_marker = True\n",
    "    else:\n",
    "        negation_marker = False\n",
    "    \n",
    "    for word in text_words:\n",
    "        for sword in stopwords:\n",
    "            if word == sword:\n",
    "                text_words.remove(word)\n",
    "\n",
    "    emotion = []\n",
    "    for word in text_words:\n",
    "        for key in list(train.keys()):\n",
    "            if word == key:\n",
    "                emotion.append(train[key])\n",
    "        for key2 in list(train2.index):\n",
    "            if word == key2:\n",
    "                emotion = emotion + list(train2.loc[key2][train2.loc[key2].values > 0].index)\n",
    "\n",
    "    for em in emotion:\n",
    "        if (em == \"Negative\") or (em == \"Positive\"):\n",
    "            if em in list(npemotion_dict.keys()):\n",
    "                npemotion_dict[em] = npemotion_dict[em] + 1\n",
    "            else:\n",
    "                npemotion_dict[em] = 1\n",
    "        else:\n",
    "            if em in list(emotion_dict.keys()):\n",
    "                emotion_dict[em] = emotion_dict[em] + 1\n",
    "            else:\n",
    "                emotion_dict[em] = 1\n",
    "\n",
    "def clear_text():\n",
    "    text = input_text.lower()\n",
    "    for r in text:\n",
    "        if r in list(string.punctuation):\n",
    "            text = text.replace(r, \"\")\n",
    "    text = TextBlob(text).correct()\n",
    "    text = text.split()\n",
    "    for w in text:\n",
    "        if w in list([\"dont\",\"isnt\",\"havent\", \"shouldnt\", \"couldnt\", \"wouldnt\"]):\n",
    "            text.append(\"not\")\n",
    "    #print(text)\n",
    "    return text\n",
    "\n",
    "def pichart_emotion():\n",
    "    global overallemo_dict\n",
    "\n",
    "    # pie chart code\n",
    "    for i in list(overallemo_dict.keys()):\n",
    "        if overallemo_dict[i] <= 0:\n",
    "            del overallemo_dict[i]\n",
    "\n",
    "    emotion_pi=list(overallemo_dict.keys())\n",
    "    percen=list(overallemo_dict.values())\n",
    "    Explode= []\n",
    "\n",
    "    for i in range(0, len(percen)):\n",
    "        Explode.append(0.08)\n",
    "\n",
    "    plt.subplots()\n",
    "    plt.pie(percen,explode=Explode,labels=emotion_pi,shadow=True,startangle=45)\n",
    "    plt.axis('equal')\n",
    "    plt.show()\n",
    "        \n",
    "def start_emotion_detection():\n",
    "    global input_text\n",
    "    input_text = input(\"Please insert your text: \")\n",
    "    try:\n",
    "            text = clear_text()\n",
    "            emotion_func(text)\n",
    "\n",
    "\n",
    "            fig, ax1 = plt.subplots()\n",
    "            ax1.bar(emotion_dict.keys(), emotion_dict.values())\n",
    "            fig.autofmt_xdate()\n",
    "            plt.show()\n",
    "            text = \"\"\n",
    "    except:\n",
    "        print(\"ERROR! Please try again!\")\n",
    "\n",
    "def posneg_func():\n",
    "    neg = 0\n",
    "    pos = 0\n",
    "    try:\n",
    "        pos = npemotion_dict['Positive']\n",
    "    except:\n",
    "        pos = 0\n",
    "    try:\n",
    "        neg = npemotion_dict['Negative']\n",
    "    except:\n",
    "        neg = 0\n",
    "    if pos > neg:\n",
    "        return \"positive\"\n",
    "    elif neg > pos:\n",
    "        return \"negative\"\n",
    "    else:\n",
    "        return \"unclear\""
   ]
  },
  {
   "cell_type": "markdown",
   "metadata": {
    "id": "9wsT0jTgJLxx"
   },
   "source": [
    "## Execution"
   ]
  },
  {
   "cell_type": "code",
   "execution_count": 8,
   "metadata": {
    "id": "E7-dDYADJbdD"
   },
   "outputs": [
    {
     "name": "stdout",
     "output_type": "stream",
     "text": [
      "Please insert your text: I love ice cream!\n"
     ]
    },
    {
     "data": {
      "image/png": "[encoded data removed]",
      "text/plain": [
       "<Figure size 432x288 with 1 Axes>"
      ]
     },
     "metadata": {
      "needs_background": "light"
     },
     "output_type": "display_data"
    },
    {
     "name": "stdout",
     "output_type": "stream",
     "text": [
      "\n",
      "\n",
      "Overall the text shows 0.5 of happiness, 0.0 of sadness, 0.0 of anger, 0.125 of disgust, 0.375 of surprise and 0.0 of fear. The negation of the given text is FALSE.\n",
      "The overall mood of the given text is positive.\n"
     ]
    },
    {
     "data": {
      "image/png": "[encoded data removed]",
      "text/plain": [
       "<Figure size 432x288 with 1 Axes>"
      ]
     },
     "metadata": {},
     "output_type": "display_data"
    }
   ],
   "source": [
    "input_text = \"\"\n",
    "emotion_dict = dict()\n",
    "npemotion_dict = dict()\n",
    "overallemo_dict = dict()\n",
    "negation_marker = False\n",
    "\n",
    "start_emotion_detection()\n",
    "try:\n",
    "    overallemotion_func()\n",
    "    if negation_marker == False:\n",
    "        print(\"\\n\")\n",
    "        print(\"Overall the text shows\",overallemo_dict['happiness'] ,\"of happiness,\",overallemo_dict['sadness'] ,\"of sadness,\",overallemo_dict['anger'] ,\"of anger,\",overallemo_dict['disgust'] ,\"of disgust,\",overallemo_dict['surprise'] ,\"of surprise and\",overallemo_dict['fear'] ,\"of fear.\" ,\"The negation of the given text is FALSE.\")\n",
    "        print(\"The overall mood of the given text is\", posneg_func()+\".\")\n",
    "        pichart_emotion()\n",
    "    elif negation_marker == True:\n",
    "        print(\"\\n\")\n",
    "        print(\"Overall the text shows\",overallemo_dict['happiness'] ,\"of happiness,\",overallemo_dict['sadness'] ,\"of sadness,\",overallemo_dict['anger'] ,\"of anger,\",overallemo_dict['disgust'] ,\"of disgust,\",overallemo_dict['surprise'] ,\"of surprise and\",overallemo_dict['fear'] ,\"of fear, but the negation of the given text is TRUE.\")\n",
    "        print(\"Therefore some emotions are the opposite of the identified emotions.\")\n",
    "        print(\"The overall mood of the given text is\", posneg_func()+\".\")\n",
    "        pichart_emotion()\n",
    "except:\n",
    "    print(\"ERROR! Please try again!\")"
   ]
  },
  {
   "cell_type": "code",
   "execution_count": null,
   "metadata": {},
   "outputs": [],
   "source": []
  }
 ],
 "metadata": {
  "colab": {
   "collapsed_sections": [
    "0hbrd698IzBm",
    "9wsT0jTgJLxx"
   ],
   "name": "TL_12_Project_emotion_detection.ipynb",
   "provenance": []
  },
  "kernelspec": {
   "display_name": "Python 3",
   "language": "python",
   "name": "python3"
  },
  "language_info": {
   "codemirror_mode": {
    "name": "ipython",
    "version": 3
   },
   "file_extension": ".py",
   "mimetype": "text/x-python",
   "name": "python",
   "nbconvert_exporter": "python",
   "pygments_lexer": "ipython3",
   "version": "3.8.3"
  }
 },
 "nbformat": 4,
 "nbformat_minor": 1
}
